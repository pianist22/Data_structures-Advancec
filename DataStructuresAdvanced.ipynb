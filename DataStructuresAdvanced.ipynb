{
 "cells": [
  {
   "cell_type": "markdown",
   "id": "d8944e2f-2cf6-4ecc-ab09-bc44d4344d4f",
   "metadata": {},
   "source": [
    "# Data Structures"
   ]
  },
  {
   "cell_type": "markdown",
   "id": "093843cd-66ef-476f-a224-29cb5ac75fcd",
   "metadata": {},
   "source": [
    "### Q1) Write a code to reverse a string."
   ]
  },
  {
   "cell_type": "code",
   "execution_count": 3,
   "id": "d7a38ca1-cc97-4a60-9ada-82d43cd40203",
   "metadata": {},
   "outputs": [
    {
     "data": {
      "text/plain": [
       "'uhsnayirP'"
      ]
     },
     "execution_count": 3,
     "metadata": {},
     "output_type": "execute_result"
    }
   ],
   "source": [
    "string = \"Priyanshu\"\n",
    "# reversing the string using string slices \n",
    "def reverseString(string):\n",
    "    return string[::-1]\n",
    "reverseString(\"Priyanshu\")"
   ]
  },
  {
   "cell_type": "markdown",
   "id": "0e0891b9-c6fc-4793-ac9d-ebea2c7cb39c",
   "metadata": {},
   "source": [
    "### Q2) Write a code to count the number of vowels in a string."
   ]
  },
  {
   "cell_type": "code",
   "execution_count": 7,
   "id": "64628312-cafb-4c35-8656-b86216603193",
   "metadata": {},
   "outputs": [
    {
     "data": {
      "text/plain": [
       "11"
      ]
     },
     "execution_count": 7,
     "metadata": {},
     "output_type": "execute_result"
    }
   ],
   "source": [
    "def countVowels(string):\n",
    "    count = 0\n",
    "    for i in string:\n",
    "        if i == 'a' or i == 'e' or i == 'i' or i == 'o' or i == 'u' or i == 'A' or i == 'E' or i == 'O'or i == 'I'or i == 'U':\n",
    "            count = count + 1\n",
    "    return count\n",
    "countVowels(\"Hello Jee Kaise ho saare\")"
   ]
  },
  {
   "cell_type": "markdown",
   "id": "947e096b-6fa0-452e-b3de-453efd361bdc",
   "metadata": {},
   "source": [
    "### Q3) Write a code to check that the given string is palindrome or not."
   ]
  },
  {
   "cell_type": "markdown",
   "id": "711b33ba-39bc-4491-8a7d-17aa9682fcf3",
   "metadata": {},
   "source": [
    "def palindrome(string):\n",
    "    n = len(string)\n",
    "    i = 0\n",
    "    j = n-1\n",
    "    while(i<=j):\n",
    "        if(string[i] != string[j]):\n",
    "            return False\n",
    "        i = i+1\n",
    "        j = j-1\n",
    "    return True\n",
    "\n",
    "\n",
    "palindrome(\"madam\") #String-> palindrome"
   ]
  },
  {
   "cell_type": "code",
   "execution_count": 5,
   "id": "b64775ed-9c41-4100-aef5-f6078b766a28",
   "metadata": {},
   "outputs": [
    {
     "data": {
      "text/plain": [
       "False"
      ]
     },
     "execution_count": 5,
     "metadata": {},
     "output_type": "execute_result"
    }
   ],
   "source": [
    "palindrome(\"abcdef\") #String -> palindrome "
   ]
  },
  {
   "cell_type": "markdown",
   "id": "c82bacf1-769f-4791-9b93-0df41a8c190d",
   "metadata": {},
   "source": [
    "### Q4) Write a code to check if two given strings are anagrams of each other."
   ]
  },
  {
   "cell_type": "code",
   "execution_count": 1,
   "id": "55c20102-8a57-4602-8e2a-c76b4fc44ff7",
   "metadata": {},
   "outputs": [
    {
     "data": {
      "text/plain": [
       "True"
      ]
     },
     "execution_count": 1,
     "metadata": {},
     "output_type": "execute_result"
    }
   ],
   "source": [
    "# Two Strings are Anagrams or not\n",
    "def anagram(str1,str2):\n",
    "    st1 = sorted(str1)\n",
    "    st2 = sorted(str2)\n",
    "    if(st1 == st2):\n",
    "        return True\n",
    "    else:\n",
    "        return False\n",
    "    \n",
    "anagram(\"listen\",\"silent\") #anagram "
   ]
  },
  {
   "cell_type": "markdown",
   "id": "d173157d-0c51-4728-982a-652da2e46df4",
   "metadata": {},
   "source": [
    "### Q5) Write a code to find all the occurence of given substring within another string."
   ]
  },
  {
   "cell_type": "code",
   "execution_count": 4,
   "id": "197c50b4-e034-424f-9db8-7e4bf43f5f50",
   "metadata": {},
   "outputs": [
    {
     "name": "stdout",
     "output_type": "stream",
     "text": [
      "The Original String:  My name is my my Your name is also my my \n",
      "The string you searched: my\n"
     ]
    },
    {
     "data": {
      "text/plain": [
       "[11, 14, 35, 38]"
      ]
     },
     "execution_count": 4,
     "metadata": {},
     "output_type": "execute_result"
    }
   ],
   "source": [
    "def occurence(string1,search):\n",
    "    print(\"The Original String: \",string1)\n",
    "    print(\"The string you searched:\",search)\n",
    "    \n",
    "    # Here we are using list comprehension where we have searching that whether search string is\n",
    "    # present at a particular index using startswith() function \n",
    "    result = [i for i in range((len(string1))) if string1.startswith(search,i)]\n",
    "    return result\n",
    "occurence(\"My name is my my Your name is also my my \",\"my\")"
   ]
  },
  {
   "cell_type": "markdown",
   "id": "6920c93b-0b40-4600-b828-5ecd728048c2",
   "metadata": {},
   "source": [
    "### Q6) Write a code to perform basic string comprehension using the count of repeated characters."
   ]
  },
  {
   "cell_type": "code",
   "execution_count": 5,
   "id": "7dafc189-633a-4df3-b3d2-6dd6e22a3c8b",
   "metadata": {},
   "outputs": [
    {
     "name": "stdout",
     "output_type": "stream",
     "text": [
      "a3b2c4d1a2\n"
     ]
    }
   ],
   "source": [
    "def compress_string(s):\n",
    "    compressed = []\n",
    "    count = 1\n",
    "\n",
    "    for i in range(1, len(s)):\n",
    "        if s[i] == s[i - 1]:\n",
    "            count += 1\n",
    "        else:\n",
    "            compressed.append(s[i - 1] + str(count))\n",
    "            count = 1\n",
    "\n",
    "    # Add the last character and its count\n",
    "    compressed.append(s[-1] + str(count))\n",
    "\n",
    "    compressed_string = ''.join(compressed)\n",
    "\n",
    "    # Return the original string if compression doesn't make it smaller\n",
    "    return compressed_string if len(compressed_string) < len(s) else s\n",
    "\n",
    "# Example usage:\n",
    "input_string = \"aaabbccccdaa\"\n",
    "compressed_string = compress_string(input_string)\n",
    "print(compressed_string) "
   ]
  },
  {
   "cell_type": "markdown",
   "id": "aad53554-e674-4164-b867-817d3d04113b",
   "metadata": {},
   "source": [
    "### Q7) Write a code to determine if the string has all unique characters."
   ]
  },
  {
   "cell_type": "code",
   "execution_count": 7,
   "id": "3fc26ae4-cf6a-416b-80c4-5631d3126f02",
   "metadata": {},
   "outputs": [
    {
     "data": {
      "text/plain": [
       "True"
      ]
     },
     "execution_count": 7,
     "metadata": {},
     "output_type": "execute_result"
    }
   ],
   "source": [
    "def unique(s):\n",
    "    for i in range(1,len(s)):\n",
    "        if(s[i] == s[i-1]):\n",
    "            return False\n",
    "    return True\n",
    "\n",
    "unique(\"abcdef\")"
   ]
  },
  {
   "cell_type": "code",
   "execution_count": 8,
   "id": "73d38e42-5489-47c3-a020-5d580d246021",
   "metadata": {},
   "outputs": [
    {
     "data": {
      "text/plain": [
       "False"
      ]
     },
     "execution_count": 8,
     "metadata": {},
     "output_type": "execute_result"
    }
   ],
   "source": [
    "unique(\"aadbbddccf\")"
   ]
  },
  {
   "cell_type": "markdown",
   "id": "98c63a61-64f3-43cf-81a8-b9f5e7979bf7",
   "metadata": {},
   "source": [
    "### Q8) Write a code to convert string to uppercase or lowercase."
   ]
  },
  {
   "cell_type": "code",
   "execution_count": 1,
   "id": "93d0259a-57e6-473d-b4d1-ac2bf6781f3f",
   "metadata": {},
   "outputs": [
    {
     "data": {
      "text/plain": [
       "'PRIYANSHU'"
      ]
     },
     "execution_count": 1,
     "metadata": {},
     "output_type": "execute_result"
    }
   ],
   "source": [
    "def toUpper(string):\n",
    "    return string.upper()\n",
    "\n",
    "def toLower(string):\n",
    "    return string.lower()\n",
    "\n",
    "toUpper(\"priyanshu\")"
   ]
  },
  {
   "cell_type": "code",
   "execution_count": 2,
   "id": "98804218-9504-413d-b519-e7bc0677cf3c",
   "metadata": {},
   "outputs": [
    {
     "data": {
      "text/plain": [
       "'priyanshu'"
      ]
     },
     "execution_count": 2,
     "metadata": {},
     "output_type": "execute_result"
    }
   ],
   "source": [
    "toLower(\"PRIYANSHU\")"
   ]
  },
  {
   "cell_type": "markdown",
   "id": "ef86ae8d-3ad9-4898-b069-0088f0c6314d",
   "metadata": {},
   "source": [
    "### Q9) Write a code to count the number of words in a string."
   ]
  },
  {
   "cell_type": "code",
   "execution_count": 3,
   "id": "f7614d29-7f2a-4459-82a7-08943710e386",
   "metadata": {},
   "outputs": [
    {
     "name": "stdout",
     "output_type": "stream",
     "text": [
      "6\n"
     ]
    }
   ],
   "source": [
    "def count_words(s):\n",
    "    return len(s.split())\n",
    "\n",
    "# Example usage:\n",
    "input_string = \"Hello, my name is Priyanshu Saha\"\n",
    "word_count = count_words(input_string)\n",
    "print(word_count)"
   ]
  },
  {
   "cell_type": "markdown",
   "id": "d20ca31c-1dd5-49e6-b119-c172e355503e",
   "metadata": {},
   "source": [
    "### Q10) Write a code to concatenate two string without using + operator."
   ]
  },
  {
   "cell_type": "code",
   "execution_count": 4,
   "id": "ba4cdb82-871c-488a-b3d2-931f1223241f",
   "metadata": {},
   "outputs": [
    {
     "name": "stdout",
     "output_type": "stream",
     "text": [
      "Hello, World!\n"
     ]
    }
   ],
   "source": [
    "def concatenate_strings(str1, str2):\n",
    "    return \"{}{}\".format(str1, str2)\n",
    "\n",
    "# Example usage:\n",
    "string1 = \"Hello, \"\n",
    "string2 = \"World!\"\n",
    "result = concatenate_strings(string1, string2)\n",
    "print(result)"
   ]
  },
  {
   "cell_type": "markdown",
   "id": "03ec4820-f156-49c9-a04f-16c0b13195fe",
   "metadata": {},
   "source": [
    "### Q11) Write a code to remove all the occurence of  specific element from the list."
   ]
  },
  {
   "cell_type": "code",
   "execution_count": 5,
   "id": "657750d0-523c-4451-a3bb-e22660a055c2",
   "metadata": {},
   "outputs": [
    {
     "name": "stdout",
     "output_type": "stream",
     "text": [
      "[1, 3, 4, 5]\n"
     ]
    }
   ],
   "source": [
    "def remove_occurrences(lst, element):\n",
    "    return [x for x in lst if x != element]\n",
    "\n",
    "# Example usage:\n",
    "numbers = [1, 2, 3, 2, 4, 2, 5]\n",
    "result = remove_occurrences(numbers, 2)\n",
    "print(result)"
   ]
  },
  {
   "cell_type": "markdown",
   "id": "7482dddf-6cd6-4b0f-ac36-52ab2b5c0dea",
   "metadata": {},
   "source": [
    "### Q12) Implement a code to find the second largest number in list of integers."
   ]
  },
  {
   "cell_type": "code",
   "execution_count": 1,
   "id": "120ed170-a18f-47b2-83c1-49b25de4fc24",
   "metadata": {},
   "outputs": [
    {
     "name": "stdout",
     "output_type": "stream",
     "text": [
      "The second largest number is: 5\n"
     ]
    }
   ],
   "source": [
    "def second_largest(numbers):\n",
    "    unique_numbers = list(set(numbers))  # Remove duplicates\n",
    "    unique_numbers.sort(reverse=True)    # Sort in descending order\n",
    "    if len(unique_numbers) > 1:\n",
    "        return unique_numbers[1]         # Return the second largest\n",
    "    else:\n",
    "        return None                      # Return None if no second largest\n",
    "\n",
    "numbers = [5, 3, 9, 1, 5, 9]\n",
    "print(\"The second largest number is:\", second_largest(numbers))"
   ]
  },
  {
   "cell_type": "markdown",
   "id": "13299605-b2d1-4f71-b88e-ad91076ee89d",
   "metadata": {},
   "source": [
    "### Q13) Create a code to count the occurence of each element in a list and return a dictionary as element as keys and ocurences as thier values.\n"
   ]
  },
  {
   "cell_type": "code",
   "execution_count": 2,
   "id": "6620ad71-882b-4ec8-b680-b61926c9dda4",
   "metadata": {},
   "outputs": [
    {
     "name": "stdout",
     "output_type": "stream",
     "text": [
      "{1: 1, 2: 2, 3: 1, 4: 3, 5: 1}\n"
     ]
    }
   ],
   "source": [
    "def count_occurrences(lst):\n",
    "    return {element: lst.count(element) for element in set(lst)}\n",
    "\n",
    "# Example usage\n",
    "numbers = [1, 2, 2, 3, 4, 4, 4, 5]\n",
    "occurrences = count_occurrences(numbers)\n",
    "print(occurrences)"
   ]
  },
  {
   "cell_type": "markdown",
   "id": "8d0c3f0b-b486-4565-b193-7668c52b7b45",
   "metadata": {},
   "source": [
    "### Q14) Write a code to reverse a list in place without using any built-in reverse function."
   ]
  },
  {
   "cell_type": "code",
   "execution_count": 3,
   "id": "22029ba7-1b7e-4dd4-8c80-60a80a5aa275",
   "metadata": {},
   "outputs": [
    {
     "name": "stdout",
     "output_type": "stream",
     "text": [
      "[5, 4, 3, 2, 1]\n"
     ]
    }
   ],
   "source": [
    "def reverse_list(lst):\n",
    "    left, right = 0, len(lst) - 1\n",
    "    while left < right:\n",
    "        lst[left], lst[right] = lst[right], lst[left]\n",
    "        left += 1\n",
    "        right -= 1\n",
    "\n",
    "# Example usage\n",
    "numbers = [1, 2, 3, 4, 5]\n",
    "reverse_list(numbers)\n",
    "print(numbers)"
   ]
  },
  {
   "cell_type": "markdown",
   "id": "26a99c1f-ba06-42d3-89ee-10285e39f91f",
   "metadata": {},
   "source": [
    "### Q15) Implement a code to find and remove duplicates from the list while preserving the original order of the elements."
   ]
  },
  {
   "cell_type": "code",
   "execution_count": 1,
   "id": "68f6e51c-ae95-493e-9a32-997fefd859cc",
   "metadata": {},
   "outputs": [
    {
     "name": "stdout",
     "output_type": "stream",
     "text": [
      "[1, 2, 3, 4, 5]\n"
     ]
    }
   ],
   "source": [
    "def remove_duplicates(lst):\n",
    "    seen = set()\n",
    "    result = []\n",
    "    for item in lst:\n",
    "        if item not in seen:\n",
    "            result.append(item)\n",
    "            seen.add(item)\n",
    "    return result\n",
    "\n",
    "# Example:\n",
    "numbers = [1, 2, 2, 3, 4, 4, 5]\n",
    "unique_numbers = remove_duplicates(numbers)\n",
    "print(unique_numbers)"
   ]
  },
  {
   "cell_type": "markdown",
   "id": "e1926708-b104-4aea-b3a4-ba810ecc06c5",
   "metadata": {},
   "source": [
    "### Q16) Create a code to check whether the given list is sorted (wither in ascending or descending order) or not."
   ]
  },
  {
   "cell_type": "code",
   "execution_count": 3,
   "id": "ab35f051-23f2-4689-9d2f-c50473aab466",
   "metadata": {},
   "outputs": [
    {
     "name": "stdout",
     "output_type": "stream",
     "text": [
      "True\n",
      "False\n"
     ]
    }
   ],
   "source": [
    "def is_sorted(lst):\n",
    "    return lst == sorted(lst) or lst == sorted(lst, reverse=True)\n",
    "\n",
    "# Example\n",
    "numbers = [3, 2, 2, 1]\n",
    "print(is_sorted(numbers))\n",
    "numbers = [1,3,4,2,5,9]\n",
    "print(is_sorted(numbers))"
   ]
  },
  {
   "cell_type": "markdown",
   "id": "bf0a75bd-e4bd-41d3-8109-c24f7160d4cf",
   "metadata": {},
   "source": [
    "### Q17) Write a code to merge two sorted list into a single sorted list."
   ]
  },
  {
   "cell_type": "code",
   "execution_count": 4,
   "id": "fc8df51c-e920-4a3b-ad74-a95147c4f4df",
   "metadata": {},
   "outputs": [
    {
     "name": "stdout",
     "output_type": "stream",
     "text": [
      "[1, 2, 3, 4, 5, 6]\n"
     ]
    }
   ],
   "source": [
    "# Method 1: Without using the inbuilt function \n",
    "def merge_sorted_lists(list1, list2):\n",
    "    merged_list = []\n",
    "    i, j = 0, 0\n",
    "    while i < len(list1) and j < len(list2):\n",
    "        if list1[i] < list2[j]:\n",
    "            merged_list.append(list1[i])\n",
    "            i += 1\n",
    "        else:\n",
    "            merged_list.append(list2[j])\n",
    "            j += 1\n",
    "    merged_list.extend(list1[i:])\n",
    "    merged_list.extend(list2[j:])\n",
    "    return merged_list\n",
    "\n",
    "# Example\n",
    "list1 = [1, 3, 5]\n",
    "list2 = [2, 4, 6]\n",
    "result = merge_sorted_lists(list1, list2)\n",
    "print(result) "
   ]
  },
  {
   "cell_type": "code",
   "execution_count": 5,
   "id": "ede75901-aa8e-4139-990d-dcab5e0c10b0",
   "metadata": {},
   "outputs": [
    {
     "name": "stdout",
     "output_type": "stream",
     "text": [
      "[1, 2, 3, 4, 5, 6]\n"
     ]
    }
   ],
   "source": [
    "# Method 2: using inbuilt function \n",
    "def merge_sorted_lists(list1, list2):\n",
    "    return sorted(list1 + list2)\n",
    "\n",
    "# Example \n",
    "list1 = [1, 3, 5]\n",
    "list2 = [2, 4, 6]\n",
    "merged_list = merge_sorted_lists(list1, list2)\n",
    "print(merged_list)"
   ]
  },
  {
   "cell_type": "markdown",
   "id": "b19d52b2-bf88-4612-b75e-0f4fe25afc5a",
   "metadata": {},
   "source": [
    "### Q18) Implement a code to find the intersection of two given list."
   ]
  },
  {
   "cell_type": "code",
   "execution_count": 6,
   "id": "db73412b-f0e1-4b6b-b4cc-06f63e6326ea",
   "metadata": {},
   "outputs": [
    {
     "name": "stdout",
     "output_type": "stream",
     "text": [
      "[3, 4, 5]\n"
     ]
    }
   ],
   "source": [
    "def find_intersection(list1, list2):\n",
    "    return [item for item in list1 if item in list2]\n",
    "\n",
    "# Example\n",
    "list1 = [1, 2, 3, 4, 5]\n",
    "list2 = [3, 4, 5, 6, 7]\n",
    "intersection = find_intersection(list1, list2)\n",
    "print(intersection)"
   ]
  },
  {
   "cell_type": "markdown",
   "id": "c1f90a57-f926-4dd2-8f19-ce1b5aeba4e9",
   "metadata": {},
   "source": [
    "### Q19) Create a code to find the union of two list without dulplicates."
   ]
  },
  {
   "cell_type": "code",
   "execution_count": 1,
   "id": "fe2561fc-cac3-4e05-8190-e21b54f4d122",
   "metadata": {},
   "outputs": [
    {
     "name": "stdout",
     "output_type": "stream",
     "text": [
      "[1, 2, 3, 4, 5, 6, 7, 8]\n"
     ]
    }
   ],
   "source": [
    "def find_union(list1, list2):\n",
    "    return list(set(list1) | set(list2))\n",
    "\n",
    "# Example\n",
    "list1 = [1, 2, 3, 4, 5]\n",
    "list2 = [4, 5, 6, 7, 8]\n",
    "union = find_union(list1, list2)\n",
    "print(union)"
   ]
  },
  {
   "cell_type": "markdown",
   "id": "85d6a8df-ff33-4162-a79b-c7c233c2a26c",
   "metadata": {},
   "source": [
    "### Q20) Write a code to shuffle a list randomly without using any built-in shuffle function."
   ]
  },
  {
   "cell_type": "code",
   "execution_count": 2,
   "id": "35d27e7b-fd10-4711-9db5-24b14f0f4ad9",
   "metadata": {},
   "outputs": [
    {
     "name": "stdout",
     "output_type": "stream",
     "text": [
      "[5, 3, 4, 1, 2]\n"
     ]
    }
   ],
   "source": [
    "import random\n",
    "\n",
    "def shuffle_list(lst):\n",
    "    for i in range(len(lst) - 1, 0, -1):\n",
    "        j = random.randint(0, i)\n",
    "        lst[i], lst[j] = lst[j], lst[i]\n",
    "\n",
    "# Example usage\n",
    "numbers = [1, 2, 3, 4, 5]\n",
    "shuffle_list(numbers)\n",
    "print(numbers)"
   ]
  },
  {
   "cell_type": "markdown",
   "id": "16406cfb-e0f7-4a1d-9b55-9730b6b6b06f",
   "metadata": {},
   "source": [
    "### Q21) Write a code that takes two tuples as an input and returns a new tuple containing elements that are common two both tuples."
   ]
  },
  {
   "cell_type": "code",
   "execution_count": 3,
   "id": "2da4f21f-1cf1-4d3b-a069-1b8b5da97316",
   "metadata": {},
   "outputs": [
    {
     "name": "stdout",
     "output_type": "stream",
     "text": [
      "(3, 4)\n"
     ]
    }
   ],
   "source": [
    "def common_elements(tuple1, tuple2):\n",
    "    return tuple(set(tuple1) & set(tuple2))\n",
    "\n",
    "# Example:\n",
    "tuple1 = (1, 2, 3, 4)\n",
    "tuple2 = (3, 4, 5, 6)\n",
    "common_tuple = common_elements(tuple1, tuple2)\n",
    "print(common_tuple)"
   ]
  },
  {
   "cell_type": "markdown",
   "id": "64de537c-17ef-49c0-8ab1-6b2aee27bd70",
   "metadata": {},
   "source": [
    "### Q22) Create a code that prompts the user to enter two set of integers seperated by commas. Then print the intersection of two set."
   ]
  },
  {
   "cell_type": "code",
   "execution_count": 1,
   "id": "48243334-a5dc-4276-affa-f4daec5ce89b",
   "metadata": {},
   "outputs": [
    {
     "name": "stdin",
     "output_type": "stream",
     "text": [
      "Enter the first set of integers (separated by commas):  3,5\n",
      "Enter the second set of integers (separated by commas):  5,8\n"
     ]
    },
    {
     "name": "stdout",
     "output_type": "stream",
     "text": [
      "Intersection of the two sets: {5}\n"
     ]
    }
   ],
   "source": [
    "def input_to_set(input_str):\n",
    "    return set(map(int, input_str.split(',')))\n",
    "\n",
    "set1 = input(\"Enter the first set of integers (separated by commas): \")\n",
    "set2 = input(\"Enter the second set of integers (separated by commas): \")\n",
    "\n",
    "set1 = input_to_set(set1)\n",
    "set2 = input_to_set(set2)\n",
    "\n",
    "intersection = set1 & set2\n",
    "print(\"Intersection of the two sets:\", intersection)"
   ]
  },
  {
   "cell_type": "markdown",
   "id": "49b39b31-0623-450a-8d08-121f79a27920",
   "metadata": {},
   "source": [
    "### Q23) Write a code to concatenate two tuples. The function should take two tuples as an input and return a new tuple conataining elements from both input tuples."
   ]
  },
  {
   "cell_type": "code",
   "execution_count": 2,
   "id": "97a847db-6288-4006-b8e7-c01616047543",
   "metadata": {},
   "outputs": [
    {
     "name": "stdout",
     "output_type": "stream",
     "text": [
      "(1, 2, 3, 4, 5, 6)\n"
     ]
    }
   ],
   "source": [
    "def concatenate_tuples(tuple1, tuple2):\n",
    "    return tuple1 + tuple2\n",
    "\n",
    "# Example \n",
    "tuple1 = (1, 2, 3)\n",
    "tuple2 = (4, 5, 6)\n",
    "result = concatenate_tuples(tuple1, tuple2)\n",
    "print(result)"
   ]
  },
  {
   "cell_type": "markdown",
   "id": "eab93a2f-f43c-477d-84e9-e3b63ba7852f",
   "metadata": {},
   "source": [
    "### Q24) Develop a code that prompts the user to input two sets of strings. Then print the elements that are present in first but not in second set."
   ]
  },
  {
   "cell_type": "code",
   "execution_count": 3,
   "id": "6b4e4971-2455-4b00-b54e-7feeae18d8cf",
   "metadata": {},
   "outputs": [
    {
     "name": "stdin",
     "output_type": "stream",
     "text": [
      "Enter the first set of strings (separated by spaces):  Priyanshu Saha\n",
      "Enter the second set of strings (separated by spaces):  Robin Saha\n"
     ]
    },
    {
     "name": "stdout",
     "output_type": "stream",
     "text": [
      "Elements in the first set but not in the second: {'Priyanshu'}\n"
     ]
    }
   ],
   "source": [
    "def input_to_set(input_str):\n",
    "    return set(input_str.split())\n",
    "\n",
    "set1 = input(\"Enter the first set of strings (separated by spaces): \")\n",
    "set2 = input(\"Enter the second set of strings (separated by spaces): \")\n",
    "\n",
    "set1 = input_to_set(set1)\n",
    "set2 = input_to_set(set2)\n",
    "\n",
    "difference = set1 - set2\n",
    "print(\"Elements in the first set but not in the second:\", difference)"
   ]
  },
  {
   "cell_type": "markdown",
   "id": "ce272440-936b-4b77-a321-6c90bfba7cc8",
   "metadata": {},
   "source": [
    "### Q25) Create a code that takes a tuple and two integers as an input. The function should return a new tuple containing elements from original tuple within specified range of indices."
   ]
  },
  {
   "cell_type": "code",
   "execution_count": 4,
   "id": "6aa70709-1cfd-482c-90f4-6fd4e28421e9",
   "metadata": {},
   "outputs": [
    {
     "name": "stdout",
     "output_type": "stream",
     "text": [
      "(20, 30, 40)\n"
     ]
    }
   ],
   "source": [
    "def slice_tuple(tpl, start, end):\n",
    "    return tpl[start:end+1]\n",
    "\n",
    "# Example \n",
    "original_tuple = (10, 20, 30, 40, 50)\n",
    "start_index = 1\n",
    "end_index = 3\n",
    "result = slice_tuple(original_tuple, start_index, end_index)\n",
    "print(result)\n"
   ]
  },
  {
   "cell_type": "markdown",
   "id": "c9176e96-9df3-4267-9c84-37d62c61b3ba",
   "metadata": {},
   "source": [
    "### Q26) Write a code that prompts the user to input two sets of characters. Then print the union of these two sets."
   ]
  },
  {
   "cell_type": "code",
   "execution_count": 5,
   "id": "a7a1afb4-e887-41ff-b6dd-85ca5513a83d",
   "metadata": {},
   "outputs": [
    {
     "name": "stdin",
     "output_type": "stream",
     "text": [
      "Enter the first set of characters:  Priyanshu \n",
      "Enter the second set of characters:  Saha\n"
     ]
    },
    {
     "name": "stdout",
     "output_type": "stream",
     "text": [
      "Union of the two sets: {'i', ' ', 'S', 'n', 'u', 's', 'y', 'h', 'a', 'P', 'r'}\n"
     ]
    }
   ],
   "source": [
    "def input_to_set(input_str):\n",
    "    return set(input_str)\n",
    "\n",
    "set1 = input(\"Enter the first set of characters: \")\n",
    "set2 = input(\"Enter the second set of characters: \")\n",
    "\n",
    "set1 = input_to_set(set1)\n",
    "set2 = input_to_set(set2)\n",
    "\n",
    "union_set = set1 | set2\n",
    "print(\"Union of the two sets:\", union_set)"
   ]
  },
  {
   "cell_type": "markdown",
   "id": "b78b42a6-9843-49b1-805d-93eab1af3ce0",
   "metadata": {},
   "source": [
    "### Q27) Develop a code that takes tuple of integers as input. The function should return the maximum and minimum values from tuple using tuple unpacking."
   ]
  },
  {
   "cell_type": "code",
   "execution_count": 6,
   "id": "2340f291-f43b-4840-b45a-92c123c6e73a",
   "metadata": {},
   "outputs": [
    {
     "name": "stdout",
     "output_type": "stream",
     "text": [
      "Maximum value: 9\n",
      "Minimum value: 1\n"
     ]
    }
   ],
   "source": [
    "def find_max_min(tpl):\n",
    "    max_val, min_val = max(tpl), min(tpl)\n",
    "    return max_val, min_val\n",
    "\n",
    "# Example\n",
    "numbers = (3, 7, 1, 9, 4)\n",
    "max_value, min_value = find_max_min(numbers)\n",
    "print(\"Maximum value:\", max_value)\n",
    "print(\"Minimum value:\", min_value)"
   ]
  },
  {
   "cell_type": "markdown",
   "id": "cead1474-a7b7-4cb4-8c29-5809ca2ee531",
   "metadata": {},
   "source": [
    "### Q28) Create a code that defines two sets of integers, Then print the union, intersection and difference of two sets."
   ]
  },
  {
   "cell_type": "code",
   "execution_count": 7,
   "id": "f6ffc0f6-7fc6-4016-839e-40bd189bcaa5",
   "metadata": {},
   "outputs": [
    {
     "name": "stdout",
     "output_type": "stream",
     "text": [
      "Union: {1, 2, 3, 4, 5, 6}\n",
      "Intersection: {3, 4}\n",
      "Difference (set1 - set2): {1, 2}\n"
     ]
    }
   ],
   "source": [
    "def set_operations(set1, set2):\n",
    "    union = set1 | set2\n",
    "    intersection = set1 & set2\n",
    "    difference = set1 - set2\n",
    "    \n",
    "    print(\"Union:\", union)\n",
    "    print(\"Intersection:\", intersection)\n",
    "    print(\"Difference (set1 - set2):\", difference)\n",
    "\n",
    "# Example \n",
    "set1 = {1, 2, 3, 4}\n",
    "set2 = {3, 4, 5, 6}\n",
    "set_operations(set1, set2)"
   ]
  },
  {
   "cell_type": "markdown",
   "id": "d47e165c-57d2-44a2-ac5b-ea3a9329023f",
   "metadata": {},
   "source": [
    "### Q29) Write a code that takes a tuple and an element as input. The function should return the count of ocurrence of element in the tuple."
   ]
  },
  {
   "cell_type": "code",
   "execution_count": 8,
   "id": "ad6fdce6-3bbd-4e71-993c-d049c6b628ce",
   "metadata": {},
   "outputs": [
    {
     "name": "stdout",
     "output_type": "stream",
     "text": [
      "The element '1' occurs 3 times in the tuple (1, 2, 3, 1, 2, 1)\n"
     ]
    }
   ],
   "source": [
    "def count_element(tup, x):\n",
    "  \"\"\"\n",
    "  This function takes a tuple and an element as input and returns the count of occurrences of the element in the tuple.\n",
    "  \"\"\"\n",
    "    count = 0\n",
    "    for element in tup:\n",
    "        if element == x:\n",
    "            count += 1\n",
    "    return count\n",
    "\n",
    "# Example usage\n",
    "test_tup = (1, 2, 3, 1, 2, 1)\n",
    "element = 1\n",
    "result = count_element(test_tup, element)\n",
    "print(f\"The element '{element}' occurs {result} times in the tuple {test_tup}\")"
   ]
  },
  {
   "cell_type": "markdown",
   "id": "834fd340-9d38-4788-8dd7-fae6cbe79b89",
   "metadata": {},
   "source": [
    "### Q30) Develop a code that prompts the user to take two sets of strings. Then print the symmetric of two sets."
   ]
  },
  {
   "cell_type": "code",
   "execution_count": 9,
   "id": "31623a92-68d7-4e38-be79-5693b66ca869",
   "metadata": {},
   "outputs": [
    {
     "name": "stdout",
     "output_type": "stream",
     "text": [
      "{'rishav', 'shyam', 'ravi', 'rahim'}\n"
     ]
    }
   ],
   "source": [
    "\n",
    "\n",
    "set_A = {\"ram\", \"rahim\", \"ajay\", \"rishav\", \"aakash\"}\n",
    "set_B = {\"aakash\", \"ajay\", \"shyam\", \"ram\", \"ravi\"}\n",
    "print(set_A ^ set_B)"
   ]
  },
  {
   "cell_type": "markdown",
   "id": "329cc7a3-fddf-4cc5-8389-4289025883e2",
   "metadata": {},
   "source": [
    "### Q31) Write a code that takes a list of words as input and returns a dictionary where the keys are unique words and values are the frequnecies of those words in the input list."
   ]
  },
  {
   "cell_type": "code",
   "execution_count": 10,
   "id": "e2547dc2-83e7-48b8-b188-a691cbb4a8e7",
   "metadata": {},
   "outputs": [
    {
     "name": "stdout",
     "output_type": "stream",
     "text": [
      "{'apple': 3, 'banana': 1, 'orange': 1, 'grape': 1}\n"
     ]
    }
   ],
   "source": [
    "def count_word_frequencies(word_list):\n",
    "    freq = {}\n",
    "    for word in word_list:\n",
    "        freq[word] = freq.get(word, 0) + 1\n",
    "    return freq\n",
    "\n",
    "# Example \n",
    "my_list = [\"apple\", \"banana\", \"apple\", \"orange\", \"apple\", \"grape\"]\n",
    "result = count_word_frequencies(my_list)\n",
    "print(result)"
   ]
  },
  {
   "cell_type": "markdown",
   "id": "8c5c601f-383a-41a7-a1f8-d87218331fab",
   "metadata": {},
   "source": [
    "### Q32) Write a code that takes two  dictionary as input and merges them into single dictionary. if there are common keys, the values should be added together."
   ]
  },
  {
   "cell_type": "code",
   "execution_count": 11,
   "id": "7ac6c516-b2fe-4bae-956e-b59d05ac49ce",
   "metadata": {},
   "outputs": [
    {
     "name": "stdout",
     "output_type": "stream",
     "text": [
      "{'a': 1, 'b': 5, 'c': 4}\n"
     ]
    }
   ],
   "source": [
    "def merge_dictionaries(dict1, dict2):\n",
    "    merged_dict = dict1.copy()\n",
    "    for key, value in dict2.items():\n",
    "        if key in merged_dict:\n",
    "            merged_dict[key] += value\n",
    "        else:\n",
    "            merged_dict[key] = value\n",
    "    return merged_dict\n",
    "\n",
    "# Example \n",
    "dict1 = {'a': 1, 'b': 2}\n",
    "dict2 = {'b': 3, 'c': 4}\n",
    "result = merge_dictionaries(dict1, dict2)\n",
    "print(result)"
   ]
  },
  {
   "cell_type": "markdown",
   "id": "b096c24d-4554-4726-ae24-aa89f7fbb421",
   "metadata": {},
   "source": [
    "### Q33) Write a code to access a value in a nested dictionary.The function should take the dictionary and a list of keys as input, and return the coresponding value. If any of them do not exits in the dictionary, the function should return None."
   ]
  },
  {
   "cell_type": "code",
   "execution_count": null,
   "id": "427d75b6-c1dd-4b01-9ad1-d5d4010f735c",
   "metadata": {},
   "outputs": [],
   "source": [
    "def get_nested_value(dictionary, keys):\n",
    "    try:\n",
    "        for key in keys:\n",
    "            dictionary = dictionary[key]\n",
    "        return dictionary\n",
    "    except KeyError:\n",
    "        return None\n",
    "\n",
    "# Example usage:\n",
    "market = {\n",
    "    \"fruits\": {\"apple\": 10, \"orange\": 40, \"strawberry\": 30, \"grapes\": 200},\n",
    "    \"vegetables\": {\"carrot\": 50, \"beans\": 100, \"tomato\": 70}\n",
    "}\n",
    "keys_to_access = [\"fruits\", \"orange\"]\n",
    "result = get_nested_value(market, keys_to_access)\n",
    "print(\"Orange Price:\", result)  "
   ]
  },
  {
   "cell_type": "markdown",
   "id": "ec09aa6b-40c1-438c-a137-ea08b20cc585",
   "metadata": {},
   "source": [
    "### Q34) Write a code that takes a dictionary as input and returns a sorted version of it based on the values. You can choose whether to sort in ascending or descending order."
   ]
  },
  {
   "cell_type": "code",
   "execution_count": 13,
   "id": "1152d626-95f2-4811-b29f-be22c7b95c61",
   "metadata": {},
   "outputs": [
    {
     "name": "stdout",
     "output_type": "stream",
     "text": [
      "{'grape': 1, 'banana': 2, 'apple': 5, 'orange': 8}\n"
     ]
    }
   ],
   "source": [
    "sample_dict = {'apple': 5, 'banana': 2, 'orange': 8, 'grape': 1}\n",
    "sorted_dict = {}\n",
    "for key in sorted(sample_dict, key=sample_dict.get):\n",
    "    sorted_dict[key] = sample_dict[key]\n",
    "print(sorted_dict)"
   ]
  },
  {
   "cell_type": "markdown",
   "id": "eb07eacc-e393-4930-91dd-2147dfb5c367",
   "metadata": {},
   "source": [
    "### Q35) Write a code that inverts a dictionary, swapping keys and values. Ensure that the inverted dictionary correctly handles cases where mutliple keys have same value by storing the keys as a list in the inverted dicitonary."
   ]
  },
  {
   "cell_type": "code",
   "execution_count": 14,
   "id": "978d96bc-c571-4169-833c-d42d3fe7fe2b",
   "metadata": {},
   "outputs": [
    {
     "name": "stdout",
     "output_type": "stream",
     "text": [
      "{5: ['apple', 'orange'], 2: ['banana'], 1: ['grape']}\n"
     ]
    }
   ],
   "source": [
    "def invert_dictionary(original_dict):\n",
    "    inverted_dict = {}\n",
    "    for key, value in original_dict.items():\n",
    "        if value in inverted_dict:\n",
    "            inverted_dict[value].append(key)\n",
    "        else:\n",
    "            inverted_dict[value] = [key]\n",
    "    return inverted_dict\n",
    "\n",
    "# Example usage:\n",
    "sample_dict = {'apple': 5, 'banana': 2, 'orange': 5, 'grape': 1}\n",
    "result = invert_dictionary(sample_dict)\n",
    "print(result)\n"
   ]
  },
  {
   "cell_type": "code",
   "execution_count": null,
   "id": "de960c38-8f83-43a4-8d51-e024fb192964",
   "metadata": {},
   "outputs": [],
   "source": []
  }
 ],
 "metadata": {
  "kernelspec": {
   "display_name": "Python 3 (ipykernel)",
   "language": "python",
   "name": "python3"
  },
  "language_info": {
   "codemirror_mode": {
    "name": "ipython",
    "version": 3
   },
   "file_extension": ".py",
   "mimetype": "text/x-python",
   "name": "python",
   "nbconvert_exporter": "python",
   "pygments_lexer": "ipython3",
   "version": "3.10.8"
  }
 },
 "nbformat": 4,
 "nbformat_minor": 5
}
